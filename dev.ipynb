{
 "cells": [
  {
   "cell_type": "markdown",
   "id": "41083305",
   "metadata": {},
   "source": [
    "# Imports"
   ]
  },
  {
   "cell_type": "code",
   "execution_count": 1,
   "id": "70bad916",
   "metadata": {},
   "outputs": [
    {
     "name": "stdout",
     "output_type": "stream",
     "text": [
      "Requirement already satisfied: numpy in ./.venv/lib/python3.13/site-packages (from -r requirements.txt (line 1)) (2.3.4)\n",
      "Requirement already satisfied: matplotlib in ./.venv/lib/python3.13/site-packages (from -r requirements.txt (line 2)) (3.10.7)\n",
      "Requirement already satisfied: pandas in ./.venv/lib/python3.13/site-packages (from -r requirements.txt (line 3)) (2.3.3)\n",
      "Requirement already satisfied: scikit-learn in ./.venv/lib/python3.13/site-packages (from -r requirements.txt (line 4)) (1.7.2)\n",
      "Requirement already satisfied: nltk in ./.venv/lib/python3.13/site-packages (from -r requirements.txt (line 5)) (3.9.2)\n",
      "Requirement already satisfied: contourpy>=1.0.1 in ./.venv/lib/python3.13/site-packages (from matplotlib->-r requirements.txt (line 2)) (1.3.3)\n",
      "Requirement already satisfied: cycler>=0.10 in ./.venv/lib/python3.13/site-packages (from matplotlib->-r requirements.txt (line 2)) (0.12.1)\n",
      "Requirement already satisfied: fonttools>=4.22.0 in ./.venv/lib/python3.13/site-packages (from matplotlib->-r requirements.txt (line 2)) (4.60.1)\n",
      "Requirement already satisfied: kiwisolver>=1.3.1 in ./.venv/lib/python3.13/site-packages (from matplotlib->-r requirements.txt (line 2)) (1.4.9)\n",
      "Requirement already satisfied: packaging>=20.0 in ./.venv/lib/python3.13/site-packages (from matplotlib->-r requirements.txt (line 2)) (25.0)\n",
      "Requirement already satisfied: pillow>=8 in ./.venv/lib/python3.13/site-packages (from matplotlib->-r requirements.txt (line 2)) (12.0.0)\n",
      "Requirement already satisfied: pyparsing>=3 in ./.venv/lib/python3.13/site-packages (from matplotlib->-r requirements.txt (line 2)) (3.2.5)\n",
      "Requirement already satisfied: python-dateutil>=2.7 in ./.venv/lib/python3.13/site-packages (from matplotlib->-r requirements.txt (line 2)) (2.9.0.post0)\n",
      "Requirement already satisfied: pytz>=2020.1 in ./.venv/lib/python3.13/site-packages (from pandas->-r requirements.txt (line 3)) (2025.2)\n",
      "Requirement already satisfied: tzdata>=2022.7 in ./.venv/lib/python3.13/site-packages (from pandas->-r requirements.txt (line 3)) (2025.2)\n",
      "Requirement already satisfied: scipy>=1.8.0 in ./.venv/lib/python3.13/site-packages (from scikit-learn->-r requirements.txt (line 4)) (1.16.2)\n",
      "Requirement already satisfied: joblib>=1.2.0 in ./.venv/lib/python3.13/site-packages (from scikit-learn->-r requirements.txt (line 4)) (1.5.2)\n",
      "Requirement already satisfied: threadpoolctl>=3.1.0 in ./.venv/lib/python3.13/site-packages (from scikit-learn->-r requirements.txt (line 4)) (3.6.0)\n",
      "Requirement already satisfied: click in ./.venv/lib/python3.13/site-packages (from nltk->-r requirements.txt (line 5)) (8.3.0)\n",
      "Requirement already satisfied: regex>=2021.8.3 in ./.venv/lib/python3.13/site-packages (from nltk->-r requirements.txt (line 5)) (2025.10.23)\n",
      "Requirement already satisfied: tqdm in ./.venv/lib/python3.13/site-packages (from nltk->-r requirements.txt (line 5)) (4.67.1)\n",
      "Requirement already satisfied: six>=1.5 in ./.venv/lib/python3.13/site-packages (from python-dateutil>=2.7->matplotlib->-r requirements.txt (line 2)) (1.17.0)\n"
     ]
    }
   ],
   "source": [
    "# install required libraries\n",
    "!pip install -r requirements.txt"
   ]
  },
  {
   "cell_type": "code",
   "execution_count": 2,
   "id": "dd86ccb8",
   "metadata": {},
   "outputs": [
    {
     "name": "stderr",
     "output_type": "stream",
     "text": [
      "[nltk_data] Downloading package punkt to /home/jortg/nltk_data...\n",
      "[nltk_data]   Package punkt is already up-to-date!\n",
      "[nltk_data] Downloading package punkt_tab to /home/jortg/nltk_data...\n",
      "[nltk_data]   Package punkt_tab is already up-to-date!\n"
     ]
    },
    {
     "data": {
      "text/plain": [
       "True"
      ]
     },
     "execution_count": 2,
     "metadata": {},
     "output_type": "execute_result"
    }
   ],
   "source": [
    "import numpy as np\n",
    "import matplotlib.pyplot as plt\n",
    "from pathlib import Path\n",
    "import pandas as pd\n",
    "from sklearn.tree import DecisionTreeClassifier\n",
    "from sklearn.model_selection import train_test_split\n",
    "from nltk.corpus import stopwords\n",
    "from nltk.tokenize import word_tokenize\n",
    "import nltk\n",
    "nltk.download('punkt')\n",
    "nltk.download('punkt_tab')"
   ]
  },
  {
   "cell_type": "markdown",
   "id": "7dc48471",
   "metadata": {},
   "source": [
    "# Loading the data"
   ]
  },
  {
   "cell_type": "code",
   "execution_count": 3,
   "id": "6529b126",
   "metadata": {},
   "outputs": [
    {
     "name": "stdout",
     "output_type": "stream",
     "text": [
      "Data loaded successfully\n"
     ]
    }
   ],
   "source": [
    "data_folder_name = 'A4data_2526_pan2020'\n",
    "DATA_FOLDER = Path(data_folder_name)\n",
    "DEV_SET = None\n",
    "TEST_SET = None\n",
    "TRAIN_SET = None\n",
    "\n",
    "if not DATA_FOLDER.exists():\n",
    "    print(f\"ERROR: Data folder not found, make sure the '/{data_folder_name}' folder is located in the same folder as this notebook!\")\n",
    "else:\n",
    "    try:\n",
    "        DEV_SET = pd.read_csv(DATA_FOLDER / 'pan2526_dev_data.csv')\n",
    "        TEST_SET = pd.read_csv(DATA_FOLDER / 'pan2526_test_data.csv')\n",
    "        TRAIN_SET = pd.read_csv(DATA_FOLDER / 'pan2526_train_data.csv')\n",
    "        print('Data loaded successfully')\n",
    "    except FileNotFoundError:\n",
    "        print(f\"ERROR: Data not found in '/{DATA_FOLDER}'\")\n",
    "    "
   ]
  },
  {
   "cell_type": "markdown",
   "id": "1e0d5f85",
   "metadata": {},
   "source": [
    "Let's have a look at the DEV data:"
   ]
  },
  {
   "cell_type": "code",
   "execution_count": 4,
   "id": "e4074360",
   "metadata": {},
   "outputs": [
    {
     "data": {
      "text/html": [
       "<div>\n",
       "<style scoped>\n",
       "    .dataframe tbody tr th:only-of-type {\n",
       "        vertical-align: middle;\n",
       "    }\n",
       "\n",
       "    .dataframe tbody tr th {\n",
       "        vertical-align: top;\n",
       "    }\n",
       "\n",
       "    .dataframe thead th {\n",
       "        text-align: right;\n",
       "    }\n",
       "</style>\n",
       "<table border=\"1\" class=\"dataframe\">\n",
       "  <thead>\n",
       "    <tr style=\"text-align: right;\">\n",
       "      <th></th>\n",
       "      <th>Unnamed: 0</th>\n",
       "      <th>text</th>\n",
       "      <th>author</th>\n",
       "    </tr>\n",
       "  </thead>\n",
       "  <tbody>\n",
       "    <tr>\n",
       "      <th>0</th>\n",
       "      <td>3329</td>\n",
       "      <td>The last part of the pictorial will now begin!...</td>\n",
       "      <td>560480</td>\n",
       "    </tr>\n",
       "    <tr>\n",
       "      <th>1</th>\n",
       "      <td>1225</td>\n",
       "      <td>\"It is a huge body of water.\" It was slow yet ...</td>\n",
       "      <td>560480</td>\n",
       "    </tr>\n",
       "    <tr>\n",
       "      <th>2</th>\n",
       "      <td>3334</td>\n",
       "      <td>As she reached for the door, the sound of a ca...</td>\n",
       "      <td>512464</td>\n",
       "    </tr>\n",
       "    <tr>\n",
       "      <th>3</th>\n",
       "      <td>3573</td>\n",
       "      <td>Despite the scowl that seemed to be forever pl...</td>\n",
       "      <td>2750536</td>\n",
       "    </tr>\n",
       "    <tr>\n",
       "      <th>4</th>\n",
       "      <td>1429</td>\n",
       "      <td>The traditional institutions did not take the ...</td>\n",
       "      <td>1112924</td>\n",
       "    </tr>\n",
       "    <tr>\n",
       "      <th>...</th>\n",
       "      <td>...</td>\n",
       "      <td>...</td>\n",
       "      <td>...</td>\n",
       "    </tr>\n",
       "    <tr>\n",
       "      <th>263</th>\n",
       "      <td>1432</td>\n",
       "      <td>\"Still thinking about it, Kuwabara-jiisan,\" Hi...</td>\n",
       "      <td>1112924</td>\n",
       "    </tr>\n",
       "    <tr>\n",
       "      <th>264</th>\n",
       "      <td>1838</td>\n",
       "      <td>\"Well, if it isn\"t tha\" police kitteh.\" Seras ...</td>\n",
       "      <td>1220273</td>\n",
       "    </tr>\n",
       "    <tr>\n",
       "      <th>265</th>\n",
       "      <td>3328</td>\n",
       "      <td>\"I think I have seen that clothes before...\" L...</td>\n",
       "      <td>560480</td>\n",
       "    </tr>\n",
       "    <tr>\n",
       "      <th>266</th>\n",
       "      <td>470</td>\n",
       "      <td>\"I almost didn\"t turn away from you, even when...</td>\n",
       "      <td>1220273</td>\n",
       "    </tr>\n",
       "    <tr>\n",
       "      <th>267</th>\n",
       "      <td>2037</td>\n",
       "      <td>\"No...\" \"Alright, so what you want to do is pu...</td>\n",
       "      <td>2855986</td>\n",
       "    </tr>\n",
       "  </tbody>\n",
       "</table>\n",
       "<p>268 rows × 3 columns</p>\n",
       "</div>"
      ],
      "text/plain": [
       "     Unnamed: 0                                               text   author\n",
       "0          3329  The last part of the pictorial will now begin!...   560480\n",
       "1          1225  \"It is a huge body of water.\" It was slow yet ...   560480\n",
       "2          3334  As she reached for the door, the sound of a ca...   512464\n",
       "3          3573  Despite the scowl that seemed to be forever pl...  2750536\n",
       "4          1429  The traditional institutions did not take the ...  1112924\n",
       "..          ...                                                ...      ...\n",
       "263        1432  \"Still thinking about it, Kuwabara-jiisan,\" Hi...  1112924\n",
       "264        1838  \"Well, if it isn\"t tha\" police kitteh.\" Seras ...  1220273\n",
       "265        3328  \"I think I have seen that clothes before...\" L...   560480\n",
       "266         470  \"I almost didn\"t turn away from you, even when...  1220273\n",
       "267        2037  \"No...\" \"Alright, so what you want to do is pu...  2855986\n",
       "\n",
       "[268 rows x 3 columns]"
      ]
     },
     "execution_count": 4,
     "metadata": {},
     "output_type": "execute_result"
    }
   ],
   "source": [
    "DEV_SET"
   ]
  },
  {
   "cell_type": "markdown",
   "id": "9ec4a7b8",
   "metadata": {},
   "source": [
    "# Extract features"
   ]
  },
  {
   "cell_type": "code",
   "execution_count": 5,
   "id": "cf4b1272",
   "metadata": {},
   "outputs": [],
   "source": [
    "def get_char_features(data_frame):\n",
    "    # some char count fetaures\n",
    "    \n",
    "    data_frame['snippet_length'] = data_frame['text'].str.len()\n",
    "    data_frame['comma'] = data_frame['text'].str.count(r',') / data_frame['snippet_length']\n",
    "    data_frame['period'] = data_frame['text'].str.count(r'\\.') / data_frame['snippet_length']\n",
    "    data_frame['exclam'] = data_frame['text'].str.count(r'\\!') / data_frame['snippet_length']\n",
    "    data_frame['question'] = data_frame['text'].str.count(r'\\?') / data_frame['snippet_length']\n",
    "    data_frame['upper_case'] = data_frame['text'].str.count(r'[A-Z]') / data_frame['snippet_length']\n",
    "    data_frame['lower_case'] = data_frame['text'].str.count(r'[a-z]') / data_frame['snippet_length']\n",
    "    # some aggregated char count features\n",
    "    \n",
    "    data_frame['vowel_frequency'] = data_frame['text'].str.count(r'[aeiou]') / data_frame['snippet_length']\n",
    "    data_frame['avg_word_len'] = data_frame['text'].apply(lambda x: sum(len(w) for w in x.split()) / len(x.split()) if x.split() else 0)\n",
    "    \n",
    "    feature_names = [\n",
    "        'snippet_length', \n",
    "        'comma', \n",
    "        'period', \n",
    "        'exclam', \n",
    "        'question', \n",
    "        'upper_case',\n",
    "        'lower_case',\n",
    "        'vowel_frequency',\n",
    "        'avg_word_len'\n",
    "    ]\n",
    "    \n",
    "    return data_frame, feature_names"
   ]
  },
  {
   "cell_type": "code",
   "execution_count": 6,
   "id": "a1d2c5d0",
   "metadata": {},
   "outputs": [],
   "source": [
    "def get_word_features(data_frame):\n",
    "    # count number of words\n",
    "    data_frame['word_count'] = data_frame['text'].apply(\n",
    "        lambda x: len(x.split())\n",
    "    )\n",
    "    # count the stopwords\n",
    "    stop_words = set(stopwords.words('english'))\n",
    "    data_frame['stopword_frequency'] = data_frame['text'].apply(\n",
    "        lambda x: sum(1 for w in word_tokenize(x.lower()) if w in stop_words)\n",
    "    ) / data_frame['word_count']\n",
    "    \n",
    "    feature_names = [\n",
    "        'word_count', \n",
    "        'stopword_frequency'\n",
    "    ]\n",
    "    \n",
    "    return data_frame, feature_names"
   ]
  },
  {
   "cell_type": "code",
   "execution_count": 7,
   "id": "e8be30b7",
   "metadata": {},
   "outputs": [],
   "source": [
    "def extract_features(data_frame):\n",
    "    feature_names = []\n",
    "    \n",
    "    # extract some character based features\n",
    "    data_frame, ft_names = get_char_features(data_frame)\n",
    "    feature_names += ft_names\n",
    "    \n",
    "    # extract stop word based features\n",
    "    data_frame, ft_names = get_word_features(data_frame)\n",
    "    feature_names += ft_names\n",
    "    \n",
    "    \n",
    "    return data_frame, feature_names"
   ]
  },
  {
   "cell_type": "code",
   "execution_count": 8,
   "id": "f825bd62",
   "metadata": {},
   "outputs": [],
   "source": [
    "def train_decision_tree(data_frame):\n",
    "\n",
    "    df_with_features, df_feature_names = extract_features(data_frame)\n",
    "    df_with_features.head()\n",
    "\n",
    "    X = df_with_features[df_feature_names]\n",
    "    y = df_with_features['author']\n",
    "\n",
    "    X_train, X_test, y_train, y_test = train_test_split(X, y, test_size=0.2, random_state=42)\n",
    "\n",
    "    model = DecisionTreeClassifier(random_state=42)\n",
    "    model.fit(X_train, y_train)\n",
    "\n",
    "    # Make predictions\n",
    "    predictions = model.predict(X_test)\n",
    "    print(\"Predictions:\", predictions)\n",
    "\n",
    "    # Check model accuracy\n",
    "    print(\"Accuracy:\", model.score(X_test, y_test))"
   ]
  },
  {
   "cell_type": "code",
   "execution_count": 9,
   "id": "3205199c",
   "metadata": {},
   "outputs": [
    {
     "name": "stdout",
     "output_type": "stream",
     "text": [
      "Predictions: [1497577  870118  512464 1497577  560480 1497577 2855986   29783 1112924\n",
      " 1112924  806976  583994 1497577  748687 2943978 6234395 6234395  806976\n",
      " 1112924 1276465 3439302 1497577 1497577  512464  583064 1220273   29783\n",
      " 6234395 2855986 2750536 2943978  910821  512464  748687  560480 2943978\n",
      " 1276465 2855986 3439302  870118  806976 2750536  910821  583994 1220273\n",
      " 1112924  967934 2750536  512464  910821 2855986 2750536 6234395 1276465]\n",
      "Accuracy: 0.25925925925925924\n"
     ]
    }
   ],
   "source": [
    "train_decision_tree(DEV_SET)"
   ]
  },
  {
   "cell_type": "code",
   "execution_count": null,
   "id": "bfb13f43",
   "metadata": {},
   "outputs": [],
   "source": []
  },
  {
   "cell_type": "code",
   "execution_count": null,
   "id": "5177450d",
   "metadata": {},
   "outputs": [],
   "source": []
  }
 ],
 "metadata": {
  "kernelspec": {
   "display_name": ".venv",
   "language": "python",
   "name": "python3"
  },
  "language_info": {
   "codemirror_mode": {
    "name": "ipython",
    "version": 3
   },
   "file_extension": ".py",
   "mimetype": "text/x-python",
   "name": "python",
   "nbconvert_exporter": "python",
   "pygments_lexer": "ipython3",
   "version": "3.13.7"
  }
 },
 "nbformat": 4,
 "nbformat_minor": 5
}
